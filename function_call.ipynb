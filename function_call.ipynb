{
 "cells": [
  {
   "cell_type": "code",
   "execution_count": 3,
   "metadata": {},
   "outputs": [],
   "source": [
    "def sumDiff(x,y):\n",
    "    sum = x+y\n",
    "    diff = x-y\n",
    "    print(sum, diff) # you can switch between print and return statements and play around\n",
    "    #return sum, diff # return is more convenient and strong.\n",
    "    "
   ]
  },
  {
   "cell_type": "code",
   "execution_count": 4,
   "metadata": {},
   "outputs": [
    {
     "name": "stdout",
     "output_type": "stream",
     "text": [
      "Please enter two numbers: 1, 2\n",
      "3 -1\n"
     ]
    }
   ],
   "source": [
    "num1, num2 = eval(input(\"Please enter two numbers: \"))\n",
    "\n",
    "sumDiff(num1,num2)"
   ]
  }
 ],
 "metadata": {
  "kernelspec": {
   "display_name": "Python 3",
   "language": "python",
   "name": "python3"
  },
  "language_info": {
   "codemirror_mode": {
    "name": "ipython",
    "version": 3
   },
   "file_extension": ".py",
   "mimetype": "text/x-python",
   "name": "python",
   "nbconvert_exporter": "python",
   "pygments_lexer": "ipython3",
   "version": "3.7.4"
  }
 },
 "nbformat": 4,
 "nbformat_minor": 2
}

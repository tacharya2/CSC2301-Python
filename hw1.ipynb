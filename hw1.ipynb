{
 "cells": [
  {
   "cell_type": "code",
   "execution_count": 11,
   "metadata": {},
   "outputs": [
    {
     "name": "stdout",
     "output_type": "stream",
     "text": [
      "Please enter your first name: Tek\n",
      "Please enter your last name:Acharya\n",
      "\n",
      "Please enter your date of birth: month first (Eg.04 for April), day next(Eg. 12), and year(Eg. 1983): \n",
      "Enter month (Eg.04): 01\n"
     ]
    },
    {
     "ename": "SyntaxError",
     "evalue": "invalid token (<string>, line 1)",
     "output_type": "error",
     "traceback": [
      "Traceback \u001b[1;36m(most recent call last)\u001b[0m:\n",
      "  File \u001b[0;32m\"C:\\Users\\tekac\\Anaconda3\\lib\\site-packages\\IPython\\core\\interactiveshell.py\"\u001b[0m, line \u001b[0;32m3326\u001b[0m, in \u001b[0;35mrun_code\u001b[0m\n    exec(code_obj, self.user_global_ns, self.user_ns)\n",
      "\u001b[1;36m  File \u001b[1;32m\"<ipython-input-11-20c462ac2156>\"\u001b[1;36m, line \u001b[1;32m7\u001b[1;36m, in \u001b[1;35m<module>\u001b[1;36m\u001b[0m\n\u001b[1;33m    month = eval(input(\"Enter month (Eg.04): \"))\u001b[0m\n",
      "\u001b[1;36m  File \u001b[1;32m\"<string>\"\u001b[1;36m, line \u001b[1;32m1\u001b[0m\n\u001b[1;33m    01\u001b[0m\n\u001b[1;37m     ^\u001b[0m\n\u001b[1;31mSyntaxError\u001b[0m\u001b[1;31m:\u001b[0m invalid token\n"
     ]
    }
   ],
   "source": [
    "    #1\n",
    "    first = input(\"Please enter your first name: \")\n",
    "    last = input(\"Please enter your last name:\")\n",
    "    print()\n",
    "    monthList = [\"January\",\"Fabruary\", \"March\", \"April\", \"May\", \"June\", \"July\", \"August\", \"September\",\"October\",\"November\",\"December\"]\n",
    "    print(\"Please enter your date of birth: month first (Eg.04 for April), day next(Eg. 12), and year(Eg. 1983): \")\n",
    "    \n",
    "    month = eval(input(\"Enter month (Eg.04): \"))\n",
    "    day = input(\"Enter day (Eg.12):\")\n",
    "    year = input(\"Enter year(Eg.1983):\")\n",
    "    \n",
    "    print(first + \" \" + last + \"was born on \"+ monthList[month-1] + \" \"+ day +\", \"+ year + \".\")"
   ]
  },
  {
   "cell_type": "code",
   "execution_count": 13,
   "metadata": {},
   "outputs": [
    {
     "data": {
      "text/plain": [
       "2"
      ]
     },
     "execution_count": 13,
     "metadata": {},
     "output_type": "execute_result"
    }
   ],
   "source": [
    "#2\n",
    "# i)\n",
    "'search'.find('a')\n",
    "#answer = b (2)"
   ]
  },
  {
   "cell_type": "code",
   "execution_count": 16,
   "metadata": {},
   "outputs": [
    {
     "name": "stdout",
     "output_type": "stream",
     "text": [
      "3\n"
     ]
    }
   ],
   "source": [
    "#ii)\n",
    "a = 12\n",
    "b = a//4\n",
    "c = b+a%4\n",
    "print(c)\n",
    "#answer = d (3)"
   ]
  },
  {
   "cell_type": "code",
   "execution_count": 18,
   "metadata": {},
   "outputs": [
    {
     "name": "stdout",
     "output_type": "stream",
     "text": [
      "8\n",
      "16\n",
      "3\n",
      "0\n"
     ]
    }
   ],
   "source": [
    "#iii)\n",
    "#example\n",
    "a = 12\n",
    "b = 4\n",
    "c1 = a-b\n",
    "c2 = a+b\n",
    "c3 = a//b\n",
    "c4 = a%b\n",
    "print(c1)\n",
    "print(c2)\n",
    "print(c3)\n",
    "print(c4)\n",
    "#It turns out that none gives the result in double\n",
    "#answer = e (none of the above)\n"
   ]
  },
  {
   "cell_type": "code",
   "execution_count": 19,
   "metadata": {},
   "outputs": [],
   "source": [
    "def encrypt(text,s): \n",
    "    result = \"\" \n",
    "\n",
    "    # traverse text \n",
    "    for i in range(len(text)): \n",
    "        char = text[i] \n",
    "\n",
    "        # Encrypt uppercase characters \n",
    "        if (char.isupper()): \n",
    "            result += chr((ord(char) + s-65) % 26 + 65) \n",
    "\n",
    "        # Encrypt lowercase characters \n",
    "        else: \n",
    "            result += chr((ord(char) + s - 97) % 26 + 97) \n",
    "\n",
    "    return result "
   ]
  },
  {
   "cell_type": "code",
   "execution_count": null,
   "metadata": {},
   "outputs": [],
   "source": [
    "encrypt(\"Vu uv! Fvb dlyl uva zbwwvzlk av zll aopz\", 42)\n",
    "# None of the decrypter gave a meningful message; so probably there were just speaking an unknown language"
   ]
  }
 ],
 "metadata": {
  "kernelspec": {
   "display_name": "Python 3",
   "language": "python",
   "name": "python3"
  },
  "language_info": {
   "codemirror_mode": {
    "name": "ipython",
    "version": 3
   },
   "file_extension": ".py",
   "mimetype": "text/x-python",
   "name": "python",
   "nbconvert_exporter": "python",
   "pygments_lexer": "ipython3",
   "version": "3.7.4"
  }
 },
 "nbformat": 4,
 "nbformat_minor": 2
}
